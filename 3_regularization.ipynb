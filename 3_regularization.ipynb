{
 "cells": [
  {
   "cell_type": "markdown",
   "metadata": {
    "colab_type": "text",
    "id": "kR-4eNdK6lYS"
   },
   "source": [
    "Deep Learning\n",
    "=============\n",
    "\n",
    "Assignment 3\n",
    "------------\n",
    "\n",
    "Previously in `2_fullyconnected.ipynb`, you trained a logistic regression and a neural network model.\n",
    "\n",
    "The goal of this assignment is to explore regularization techniques."
   ]
  },
  {
   "cell_type": "code",
   "execution_count": 1,
   "metadata": {
    "cellView": "both",
    "colab": {
     "autoexec": {
      "startup": false,
      "wait_interval": 0
     }
    },
    "colab_type": "code",
    "collapsed": true,
    "id": "JLpLa8Jt7Vu4"
   },
   "outputs": [],
   "source": [
    "# These are all the modules we'll be using later. Make sure you can import them\n",
    "# before proceeding further.\n",
    "from __future__ import print_function\n",
    "import numpy as np\n",
    "import tensorflow as tf\n",
    "from six.moves import cPickle as pickle"
   ]
  },
  {
   "cell_type": "markdown",
   "metadata": {
    "colab_type": "text",
    "id": "1HrCK6e17WzV"
   },
   "source": [
    "First reload the data we generated in `1_notmnist.ipynb`."
   ]
  },
  {
   "cell_type": "code",
   "execution_count": 2,
   "metadata": {
    "cellView": "both",
    "colab": {
     "autoexec": {
      "startup": false,
      "wait_interval": 0
     },
     "output_extras": [
      {
       "item_id": 1
      }
     ]
    },
    "colab_type": "code",
    "collapsed": false,
    "executionInfo": {
     "elapsed": 11777,
     "status": "ok",
     "timestamp": 1449849322348,
     "user": {
      "color": "",
      "displayName": "",
      "isAnonymous": false,
      "isMe": true,
      "permissionId": "",
      "photoUrl": "",
      "sessionId": "0",
      "userId": ""
     },
     "user_tz": 480
    },
    "id": "y3-cj1bpmuxc",
    "outputId": "e03576f1-ebbe-4838-c388-f1777bcc9873"
   },
   "outputs": [
    {
     "name": "stdout",
     "output_type": "stream",
     "text": [
      "Training set (200000, 28, 28) (200000,)\n",
      "Validation set (10000, 28, 28) (10000,)\n",
      "Test set (10000, 28, 28) (10000,)\n"
     ]
    }
   ],
   "source": [
    "pickle_file = 'notMNIST.pickle'\n",
    "\n",
    "with open(pickle_file, 'rb') as f:\n",
    "  save = pickle.load(f)\n",
    "  train_dataset = save['train_dataset']\n",
    "  train_labels = save['train_labels']\n",
    "  valid_dataset = save['valid_dataset']\n",
    "  valid_labels = save['valid_labels']\n",
    "  test_dataset = save['test_dataset']\n",
    "  test_labels = save['test_labels']\n",
    "  del save  # hint to help gc free up memory\n",
    "  print('Training set', train_dataset.shape, train_labels.shape)\n",
    "  print('Validation set', valid_dataset.shape, valid_labels.shape)\n",
    "  print('Test set', test_dataset.shape, test_labels.shape)"
   ]
  },
  {
   "cell_type": "markdown",
   "metadata": {
    "colab_type": "text",
    "id": "L7aHrm6nGDMB"
   },
   "source": [
    "Reformat into a shape that's more adapted to the models we're going to train:\n",
    "- data as a flat matrix,\n",
    "- labels as float 1-hot encodings."
   ]
  },
  {
   "cell_type": "code",
   "execution_count": 3,
   "metadata": {
    "cellView": "both",
    "colab": {
     "autoexec": {
      "startup": false,
      "wait_interval": 0
     },
     "output_extras": [
      {
       "item_id": 1
      }
     ]
    },
    "colab_type": "code",
    "collapsed": false,
    "executionInfo": {
     "elapsed": 11728,
     "status": "ok",
     "timestamp": 1449849322356,
     "user": {
      "color": "",
      "displayName": "",
      "isAnonymous": false,
      "isMe": true,
      "permissionId": "",
      "photoUrl": "",
      "sessionId": "0",
      "userId": ""
     },
     "user_tz": 480
    },
    "id": "IRSyYiIIGIzS",
    "outputId": "3f8996ee-3574-4f44-c953-5c8a04636582"
   },
   "outputs": [
    {
     "name": "stdout",
     "output_type": "stream",
     "text": [
      "Training set (200000, 784) (200000, 10)\n",
      "Validation set (10000, 784) (10000, 10)\n",
      "Test set (10000, 784) (10000, 10)\n"
     ]
    }
   ],
   "source": [
    "image_size = 28\n",
    "num_labels = 10\n",
    "\n",
    "def reformat(dataset, labels):\n",
    "  dataset = dataset.reshape((-1, image_size * image_size)).astype(np.float32)\n",
    "  # Map 1 to [0.0, 1.0, 0.0 ...], 2 to [0.0, 0.0, 1.0 ...]\n",
    "  labels = (np.arange(num_labels) == labels[:,None]).astype(np.float32)\n",
    "  return dataset, labels\n",
    "train_dataset, train_labels = reformat(train_dataset, train_labels)\n",
    "valid_dataset, valid_labels = reformat(valid_dataset, valid_labels)\n",
    "test_dataset, test_labels = reformat(test_dataset, test_labels)\n",
    "print('Training set', train_dataset.shape, train_labels.shape)\n",
    "print('Validation set', valid_dataset.shape, valid_labels.shape)\n",
    "print('Test set', test_dataset.shape, test_labels.shape)"
   ]
  },
  {
   "cell_type": "code",
   "execution_count": 4,
   "metadata": {
    "cellView": "both",
    "colab": {
     "autoexec": {
      "startup": false,
      "wait_interval": 0
     }
    },
    "colab_type": "code",
    "collapsed": true,
    "id": "RajPLaL_ZW6w"
   },
   "outputs": [],
   "source": [
    "def accuracy(predictions, labels):\n",
    "  return (100.0 * np.sum(np.argmax(predictions, 1) == np.argmax(labels, 1))\n",
    "          / predictions.shape[0])"
   ]
  },
  {
   "cell_type": "markdown",
   "metadata": {
    "colab_type": "text",
    "id": "sgLbUAQ1CW-1"
   },
   "source": [
    "---\n",
    "Problem 1\n",
    "---------\n",
    "\n",
    "Introduce and tune L2 regularization for both logistic and neural network models. Remember that L2 amounts to adding a penalty on the norm of the weights to the loss. In TensorFlow, you can compute the L2 loss for a tensor `t` using `nn.l2_loss(t)`. The right amount of regularization should improve your validation / test accuracy.\n",
    "\n",
    "---\n",
    "\n",
    "I'm starting with Logistic Regression here."
   ]
  },
  {
   "cell_type": "code",
   "execution_count": 5,
   "metadata": {
    "collapsed": false
   },
   "outputs": [],
   "source": [
    "batch_size = 128\n",
    "graph = tf.Graph()\n",
    "with graph.as_default():\n",
    "    # Input data. For the training data, we use a placeholder that will be fed\n",
    "    # at run time with a training minibatch.\n",
    "    tf_train_dataset = tf.placeholder(tf.float32, shape=(batch_size, image_size * image_size))\n",
    "    tf_train_labels = tf.placeholder(tf.float32, shape=(batch_size, num_labels))\n",
    "    tf_valid_dataset = tf.constant(valid_dataset)\n",
    "    tf_test_dataset = tf.constant(test_dataset)\n",
    "    beta = tf.placeholder(tf.float32)\n",
    "    \n",
    "    weights = tf.Variable(tf.truncated_normal([image_size * image_size, num_labels]))\n",
    "    bias = tf.Variable(tf.zeros([num_labels]))\n",
    "    \n",
    "    logits = tf.matmul(tf_train_dataset ,weights) + bias\n",
    "    loss = tf.reduce_mean(tf.nn.softmax_cross_entropy_with_logits(logits=logits, labels= tf_train_labels)) + beta * tf.nn.l2_loss(weights)\n",
    "    \n",
    "    optimizer = tf.train.GradientDescentOptimizer(0.5).minimize(loss)\n",
    "    # Predictions for the training, validation, and test data.\n",
    "    train_prediction = tf.nn.softmax(logits)\n",
    "    valid_prediction = tf.nn.softmax(tf.matmul(tf_valid_dataset, weights) + bias)\n",
    "    test_prediction = tf.nn.softmax(tf.matmul(tf_test_dataset, weights) + bias)"
   ]
  },
  {
   "cell_type": "code",
   "execution_count": 7,
   "metadata": {
    "collapsed": false,
    "scrolled": false
   },
   "outputs": [
    {
     "name": "stdout",
     "output_type": "stream",
     "text": [
      "Initialized\n",
      "Minibatch loss at step 0: 22.328688\n",
      "Minibatch accuracy: 8.6%\n",
      "Validation accuracy: 8.7%\n",
      "Minibatch loss at step 500: 2.480271\n",
      "Minibatch accuracy: 78.9%\n",
      "Validation accuracy: 76.5%\n",
      "Minibatch loss at step 1000: 1.714416\n",
      "Minibatch accuracy: 80.5%\n",
      "Validation accuracy: 79.0%\n",
      "Minibatch loss at step 1500: 0.980087\n",
      "Minibatch accuracy: 82.8%\n",
      "Validation accuracy: 79.8%\n",
      "Minibatch loss at step 2000: 0.833194\n",
      "Minibatch accuracy: 86.7%\n",
      "Validation accuracy: 80.8%\n",
      "Minibatch loss at step 2500: 0.821500\n",
      "Minibatch accuracy: 82.0%\n",
      "Validation accuracy: 81.5%\n",
      "Minibatch loss at step 3000: 0.754751\n",
      "Minibatch accuracy: 82.0%\n",
      "Validation accuracy: 81.8%\n",
      "Test accuracy: 88.9%\n"
     ]
    }
   ],
   "source": [
    "num_steps = 3001\n",
    "\n",
    "with tf.Session(graph=graph) as session:\n",
    "    tf.global_variables_initializer().run()\n",
    "    print(\"Initialized\")\n",
    "    for step in range(num_steps):\n",
    "        # Pick an offset within the training data, which has been randomized.\n",
    "        # Note: we could use better randomization across epochs.\n",
    "        offset = (step * batch_size) % (train_labels.shape[0] - batch_size)\n",
    "        # Generate a minibatch.\n",
    "        batch_data = train_dataset[offset:(offset + batch_size), :]\n",
    "        batch_labels = train_labels[offset:(offset + batch_size), :]\n",
    "        # Prepare a dictionary telling the session where to feed the minibatch.\n",
    "        # The key of the dictionary is the placeholder node of the graph to be fed,\n",
    "        # and the value is the numpy array to feed to it.\n",
    "        feed_dict = {tf_train_dataset : batch_data, tf_train_labels : batch_labels, beta : 1e-3}\n",
    "        _, l, predictions = session.run([optimizer, loss, train_prediction], feed_dict=feed_dict)\n",
    "        if (step % 500 == 0):\n",
    "            print(\"Minibatch loss at step %d: %f\" % (step, l))\n",
    "            print(\"Minibatch accuracy: %.1f%%\" % accuracy(predictions, batch_labels))\n",
    "            print(\"Validation accuracy: %.1f%%\" % accuracy(\n",
    "            valid_prediction.eval(), valid_labels))\n",
    "    print(\"Test accuracy: %.1f%%\" % accuracy(test_prediction.eval(), test_labels))"
   ]
  },
  {
   "cell_type": "markdown",
   "metadata": {},
   "source": [
    "Now I will try with a 1-layer NN"
   ]
  },
  {
   "cell_type": "code",
   "execution_count": 8,
   "metadata": {
    "collapsed": true
   },
   "outputs": [],
   "source": [
    "batch_size = 128\n",
    "num_hidden_nodes = 1024"
   ]
  },
  {
   "cell_type": "code",
   "execution_count": 9,
   "metadata": {
    "collapsed": true
   },
   "outputs": [],
   "source": [
    "graph = tf.Graph()\n",
    "\n",
    "with graph.as_default():\n",
    "    # Input data. For the training data, we use a placeholder that will be fed\n",
    "    # at run time with a training minibatch.\n",
    "    tf_train_dataset = tf.placeholder(tf.float32, shape=(batch_size, image_size * image_size))\n",
    "    tf_train_labels = tf.placeholder(tf.float32, shape=(batch_size, num_labels))\n",
    "    tf_valid_dataset = tf.constant(valid_dataset)\n",
    "    tf_test_dataset = tf.constant(test_dataset)\n",
    "    beta = tf.placeholder(tf.float32)\n",
    "    \n",
    "    weights = tf.Variable(tf.truncated_normal([image_size * image_size, num_hidden_nodes]))\n",
    "    bias = tf.Variable(tf.zeros([num_hidden_nodes]))\n",
    "    \n",
    "    weights_1 = tf.Variable(tf.truncated_normal([num_hidden_nodes, num_labels]))\n",
    "    bias_1 = tf.Variable(tf.zeros([num_labels]))\n",
    "    \n",
    "    \n",
    "    hidden_1 = tf.nn.relu(tf.matmul(tf_train_dataset ,weights) + bias)\n",
    "    logits = tf.matmul(hidden_1, weights_1) + bias_1\n",
    "    loss = tf.reduce_mean(tf.nn.softmax_cross_entropy_with_logits(logits=logits, labels= tf_train_labels)) + beta * tf.nn.l2_loss(weights)\n",
    "    \n",
    "    optimizer = tf.train.GradientDescentOptimizer(0.5).minimize(loss)\n",
    "    # Predictions for the training, validation, and test data.\n",
    "    train_prediction = tf.nn.softmax(logits)\n",
    "    valid_hidden_1 = tf.nn.relu(tf.matmul(tf_valid_dataset, weights) + bias)\n",
    "    valid_prediction = tf.nn.softmax(tf.matmul(valid_hidden_1, weights_1) + bias_1)\n",
    "    test_hidden_1 = tf.nn.relu(tf.matmul(tf_test_dataset, weights) + bias)\n",
    "    test_prediction = tf.nn.softmax(tf.matmul(test_hidden_1, weights_1) + bias_1)\n",
    "    "
   ]
  },
  {
   "cell_type": "code",
   "execution_count": 10,
   "metadata": {
    "collapsed": false
   },
   "outputs": [
    {
     "name": "stdout",
     "output_type": "stream",
     "text": [
      "Initialized\n",
      "Minibatch loss at step 0: 724.625244\n",
      "Minibatch accuracy: 6.2%\n",
      "Validation accuracy: 30.2%\n",
      "Minibatch loss at step 500: 198.096680\n",
      "Minibatch accuracy: 80.5%\n",
      "Validation accuracy: 80.3%\n",
      "Minibatch loss at step 1000: 115.309296\n",
      "Minibatch accuracy: 82.0%\n",
      "Validation accuracy: 81.4%\n",
      "Minibatch loss at step 1500: 69.088181\n",
      "Minibatch accuracy: 89.8%\n",
      "Validation accuracy: 83.2%\n",
      "Minibatch loss at step 2000: 41.224514\n",
      "Minibatch accuracy: 89.8%\n",
      "Validation accuracy: 84.2%\n",
      "Minibatch loss at step 2500: 25.115265\n",
      "Minibatch accuracy: 88.3%\n",
      "Validation accuracy: 85.1%\n",
      "Minibatch loss at step 3000: 15.398703\n",
      "Minibatch accuracy: 86.7%\n",
      "Validation accuracy: 86.0%\n",
      "Test accuracy: 93.0%\n"
     ]
    }
   ],
   "source": [
    "num_steps = 3001\n",
    "\n",
    "with tf.Session(graph=graph) as session:\n",
    "    tf.global_variables_initializer().run()\n",
    "    print(\"Initialized\")\n",
    "    for step in range(num_steps):\n",
    "        # Pick an offset within the training data, which has been randomized.\n",
    "        # Note: we could use better randomization across epochs.\n",
    "        offset = (step * batch_size) % (train_labels.shape[0] - batch_size)\n",
    "        # Generate a minibatch.\n",
    "        batch_data = train_dataset[offset:(offset + batch_size), :]\n",
    "        batch_labels = train_labels[offset:(offset + batch_size), :]\n",
    "        # Prepare a dictionary telling the session where to feed the minibatch.\n",
    "        # The key of the dictionary is the placeholder node of the graph to be fed,\n",
    "        # and the value is the numpy array to feed to it.\n",
    "        feed_dict = {tf_train_dataset : batch_data, tf_train_labels : batch_labels, beta : 1e-3}\n",
    "        _, l, predictions = session.run([optimizer, loss, train_prediction], feed_dict=feed_dict)\n",
    "        if (step % 500 == 0):\n",
    "            print(\"Minibatch loss at step %d: %f\" % (step, l))\n",
    "            print(\"Minibatch accuracy: %.1f%%\" % accuracy(predictions, batch_labels))\n",
    "            print(\"Validation accuracy: %.1f%%\" % accuracy(valid_prediction.eval(), valid_labels))\n",
    "    print(\"Test accuracy: %.1f%%\" % accuracy(test_prediction.eval(), test_labels))"
   ]
  },
  {
   "cell_type": "markdown",
   "metadata": {
    "colab_type": "text",
    "id": "na8xX2yHZzNF"
   },
   "source": [
    "Here as it can be seen the regularisation term has helped in attaining a better test accuracy and has been able to genralise better.\n",
    "\n",
    "---\n",
    "Problem 2\n",
    "---------\n",
    "Let's demonstrate an extreme case of overfitting. Restrict your training data to just a few batches. What happens?\n",
    "\n",
    "---"
   ]
  },
  {
   "cell_type": "markdown",
   "metadata": {},
   "source": [
    "Here I will try to restrict data to a few batches and aim to overfit the data, using the same ComputeGraph as above."
   ]
  },
  {
   "cell_type": "code",
   "execution_count": 11,
   "metadata": {
    "collapsed": false
   },
   "outputs": [
    {
     "name": "stdout",
     "output_type": "stream",
     "text": [
      "Initialized\n",
      "Minibatch loss at step 0: 737.794067\n",
      "Minibatch accuracy: 7.0%\n",
      "Validation accuracy: 38.9%\n",
      "Minibatch loss at step 1: 1788.830200\n",
      "Minibatch accuracy: 39.1%\n",
      "Validation accuracy: 28.9%\n",
      "Minibatch loss at step 2: 1981.261108\n",
      "Minibatch accuracy: 28.9%\n",
      "Validation accuracy: 34.9%\n",
      "Minibatch loss at step 3: 1187.243286\n",
      "Minibatch accuracy: 32.0%\n",
      "Validation accuracy: 41.8%\n",
      "Minibatch loss at step 4: 957.557007\n",
      "Minibatch accuracy: 38.3%\n",
      "Validation accuracy: 46.9%\n",
      "Minibatch loss at step 5: 540.119202\n",
      "Minibatch accuracy: 64.8%\n",
      "Validation accuracy: 64.1%\n",
      "Minibatch loss at step 6: 511.764374\n",
      "Minibatch accuracy: 67.2%\n",
      "Validation accuracy: 65.7%\n",
      "Minibatch loss at step 7: 415.002258\n",
      "Minibatch accuracy: 71.1%\n",
      "Validation accuracy: 67.2%\n",
      "Minibatch loss at step 8: 360.369659\n",
      "Minibatch accuracy: 89.1%\n",
      "Validation accuracy: 71.0%\n",
      "Minibatch loss at step 9: 389.745789\n",
      "Minibatch accuracy: 82.8%\n",
      "Validation accuracy: 68.6%\n",
      "Minibatch loss at step 10: 341.574493\n",
      "Minibatch accuracy: 84.4%\n",
      "Validation accuracy: 68.5%\n",
      "Minibatch loss at step 11: 347.283508\n",
      "Minibatch accuracy: 92.2%\n",
      "Validation accuracy: 71.4%\n",
      "Minibatch loss at step 12: 361.972046\n",
      "Minibatch accuracy: 84.4%\n",
      "Validation accuracy: 67.5%\n",
      "Minibatch loss at step 13: 331.149933\n",
      "Minibatch accuracy: 86.7%\n",
      "Validation accuracy: 69.7%\n",
      "Minibatch loss at step 14: 325.673676\n",
      "Minibatch accuracy: 96.1%\n",
      "Validation accuracy: 71.6%\n",
      "Minibatch loss at step 15: 352.376495\n",
      "Minibatch accuracy: 90.6%\n",
      "Validation accuracy: 73.0%\n",
      "Minibatch loss at step 16: 307.589172\n",
      "Minibatch accuracy: 97.7%\n",
      "Validation accuracy: 72.7%\n",
      "Minibatch loss at step 17: 307.658051\n",
      "Minibatch accuracy: 96.1%\n",
      "Validation accuracy: 73.4%\n",
      "Minibatch loss at step 18: 322.471130\n",
      "Minibatch accuracy: 93.8%\n",
      "Validation accuracy: 73.2%\n",
      "Minibatch loss at step 19: 305.211212\n",
      "Minibatch accuracy: 96.9%\n",
      "Validation accuracy: 73.4%\n",
      "Minibatch loss at step 20: 303.951569\n",
      "Minibatch accuracy: 100.0%\n",
      "Validation accuracy: 73.4%\n",
      "Minibatch loss at step 21: 310.646912\n",
      "Minibatch accuracy: 97.7%\n",
      "Validation accuracy: 73.2%\n",
      "Minibatch loss at step 22: 303.343109\n",
      "Minibatch accuracy: 100.0%\n",
      "Validation accuracy: 73.2%\n",
      "Minibatch loss at step 23: 306.055756\n",
      "Minibatch accuracy: 97.7%\n",
      "Validation accuracy: 73.0%\n",
      "Minibatch loss at step 24: 321.967987\n",
      "Minibatch accuracy: 98.4%\n",
      "Validation accuracy: 73.7%\n",
      "Minibatch loss at step 25: 302.437531\n",
      "Minibatch accuracy: 100.0%\n",
      "Validation accuracy: 73.7%\n",
      "Minibatch loss at step 26: 302.135010\n",
      "Minibatch accuracy: 100.0%\n",
      "Validation accuracy: 73.7%\n",
      "Minibatch loss at step 27: 302.193024\n",
      "Minibatch accuracy: 99.2%\n",
      "Validation accuracy: 72.7%\n",
      "Minibatch loss at step 28: 301.534637\n",
      "Minibatch accuracy: 100.0%\n",
      "Validation accuracy: 72.7%\n",
      "Minibatch loss at step 29: 307.038666\n",
      "Minibatch accuracy: 97.7%\n",
      "Validation accuracy: 73.4%\n",
      "Minibatch loss at step 30: 315.384125\n",
      "Minibatch accuracy: 99.2%\n",
      "Validation accuracy: 73.8%\n",
      "Minibatch loss at step 31: 300.666870\n",
      "Minibatch accuracy: 99.2%\n",
      "Validation accuracy: 73.9%\n",
      "Minibatch loss at step 32: 300.330872\n",
      "Minibatch accuracy: 100.0%\n",
      "Validation accuracy: 73.9%\n",
      "Minibatch loss at step 33: 301.442200\n",
      "Minibatch accuracy: 98.4%\n",
      "Validation accuracy: 73.3%\n",
      "Minibatch loss at step 34: 299.732208\n",
      "Minibatch accuracy: 100.0%\n",
      "Validation accuracy: 73.3%\n",
      "Minibatch loss at step 35: 299.432831\n",
      "Minibatch accuracy: 100.0%\n",
      "Validation accuracy: 73.3%\n",
      "Minibatch loss at step 36: 300.223206\n",
      "Minibatch accuracy: 97.7%\n",
      "Validation accuracy: 73.5%\n",
      "Minibatch loss at step 37: 299.088043\n",
      "Minibatch accuracy: 99.2%\n",
      "Validation accuracy: 73.6%\n",
      "Minibatch loss at step 38: 298.539856\n",
      "Minibatch accuracy: 100.0%\n",
      "Validation accuracy: 73.6%\n",
      "Minibatch loss at step 39: 298.654816\n",
      "Minibatch accuracy: 99.2%\n",
      "Validation accuracy: 73.7%\n",
      "Test accuracy: 81.0%\n"
     ]
    }
   ],
   "source": [
    "num_steps = 40\n",
    "num_batches = 3\n",
    "batch_size = 128\n",
    "\n",
    "with tf.Session(graph=graph) as session:\n",
    "    tf.global_variables_initializer().run()\n",
    "    print(\"Initialized\")\n",
    "    for step in range(num_steps):\n",
    "        # Pick an offset within the training data, which has been randomized.\n",
    "        # Note: we could use better randomization across epochs.\n",
    "        offset = ((step % num_batches) * batch_size) % (train_labels.shape[0] - batch_size)\n",
    "        # Generate a minibatch.\n",
    "        batch_data = train_dataset[offset:(offset + batch_size), :]\n",
    "        batch_labels = train_labels[offset:(offset + batch_size), :]\n",
    "        # Prepare a dictionary telling the session where to feed the minibatch.\n",
    "        # The key of the dictionary is the placeholder node of the graph to be fed,\n",
    "        # and the value is the numpy array to feed to it.\n",
    "        feed_dict = {tf_train_dataset : batch_data, tf_train_labels : batch_labels, beta : 1e-3}\n",
    "        _, l, predictions = session.run([optimizer, loss, train_prediction], feed_dict=feed_dict)\n",
    "        print(\"Minibatch loss at step %d: %f\" % (step, l))\n",
    "        print(\"Minibatch accuracy: %.1f%%\" % accuracy(predictions, batch_labels))\n",
    "        print(\"Validation accuracy: %.1f%%\" % accuracy(valid_prediction.eval(), valid_labels))\n",
    "    print(\"Test accuracy: %.1f%%\" % accuracy(test_prediction.eval(), test_labels))"
   ]
  },
  {
   "cell_type": "markdown",
   "metadata": {
    "colab_type": "text",
    "id": "ww3SCBUdlkRc"
   },
   "source": [
    "As can be seen the validation set is stuck at 74.4% because of overfitting the data while batch accuracy has increased to 100%.\n",
    "\n",
    "---\n",
    "Problem 3\n",
    "---------\n",
    "Introduce Dropout on the hidden layer of the neural network. Remember: Dropout should only be introduced during training, not evaluation, otherwise your evaluation results would be stochastic as well. TensorFlow provides `nn.dropout()` for that, but you have to make sure it's only inserted during training.\n",
    "\n",
    "What happens to our extreme overfitting case?\n",
    "\n",
    "---"
   ]
  },
  {
   "cell_type": "markdown",
   "metadata": {},
   "source": [
    "Here I will try using a dropout on the same overfitting graph and see how it works."
   ]
  },
  {
   "cell_type": "code",
   "execution_count": 12,
   "metadata": {
    "collapsed": true
   },
   "outputs": [],
   "source": [
    "graph = tf.Graph()\n",
    "\n",
    "with graph.as_default():\n",
    "    # Input data. For the training data, we use a placeholder that will be fed\n",
    "    # at run time with a training minibatch.\n",
    "    tf_train_dataset = tf.placeholder(tf.float32, shape=(batch_size, image_size * image_size))\n",
    "    tf_train_labels = tf.placeholder(tf.float32, shape=(batch_size, num_labels))\n",
    "    tf_valid_dataset = tf.constant(valid_dataset)\n",
    "    tf_test_dataset = tf.constant(test_dataset)\n",
    "    beta = tf.placeholder(tf.float32)\n",
    "    \n",
    "    weights = tf.Variable(tf.truncated_normal([image_size * image_size, num_hidden_nodes]))\n",
    "    bias = tf.Variable(tf.zeros([num_hidden_nodes]))\n",
    "    \n",
    "    weights_1 = tf.Variable(tf.truncated_normal([num_hidden_nodes, num_labels]))\n",
    "    bias_1 = tf.Variable(tf.zeros([num_labels]))\n",
    "    \n",
    "    \n",
    "    hidden_1 = tf.nn.dropout(tf.nn.relu(tf.matmul(tf_train_dataset ,weights) + bias), 0.5)\n",
    "    logits = tf.matmul(hidden_1, weights_1) + bias_1\n",
    "    loss = tf.reduce_mean(tf.nn.softmax_cross_entropy_with_logits(logits=logits, labels= tf_train_labels)) + beta * tf.nn.l2_loss(weights)\n",
    "    \n",
    "    optimizer = tf.train.GradientDescentOptimizer(0.5).minimize(loss)\n",
    "    # Predictions for the training, validation, and test data.\n",
    "    train_prediction = tf.nn.softmax(logits)\n",
    "    valid_hidden_1 = tf.nn.relu(tf.matmul(tf_valid_dataset, weights) + bias)\n",
    "    valid_prediction = tf.nn.softmax(tf.matmul(valid_hidden_1, weights_1) + bias_1)\n",
    "    test_hidden_1 = tf.nn.relu(tf.matmul(tf_test_dataset, weights) + bias)\n",
    "    test_prediction = tf.nn.softmax(tf.matmul(test_hidden_1, weights_1) + bias_1)\n",
    "    "
   ]
  },
  {
   "cell_type": "code",
   "execution_count": 26,
   "metadata": {
    "collapsed": false,
    "scrolled": false
   },
   "outputs": [
    {
     "name": "stdout",
     "output_type": "stream",
     "text": [
      "WARNING:tensorflow:From <ipython-input-26-f6da8213fda2>:6: initialize_all_variables (from tensorflow.python.ops.variables) is deprecated and will be removed after 2017-03-02.\n",
      "Instructions for updating:\n",
      "Use `tf.global_variables_initializer` instead.\n",
      "Initialized\n",
      "Minibatch loss at step 0: 783.006714\n",
      "Minibatch accuracy: 7.8%\n",
      "Validation accuracy: 30.7%\n",
      "Minibatch loss at step 1: 1231.511230\n",
      "Minibatch accuracy: 24.2%\n",
      "Validation accuracy: 38.0%\n",
      "Minibatch loss at step 2: 1501.755371\n",
      "Minibatch accuracy: 43.8%\n",
      "Validation accuracy: 32.2%\n",
      "Minibatch loss at step 3: 1060.729004\n",
      "Minibatch accuracy: 32.8%\n",
      "Validation accuracy: 42.5%\n",
      "Minibatch loss at step 4: 851.424683\n",
      "Minibatch accuracy: 48.4%\n",
      "Validation accuracy: 57.2%\n",
      "Minibatch loss at step 5: 483.585022\n",
      "Minibatch accuracy: 68.0%\n",
      "Validation accuracy: 69.0%\n",
      "Minibatch loss at step 6: 534.817627\n",
      "Minibatch accuracy: 68.8%\n",
      "Validation accuracy: 65.3%\n",
      "Minibatch loss at step 7: 464.048340\n",
      "Minibatch accuracy: 73.4%\n",
      "Validation accuracy: 70.6%\n",
      "Minibatch loss at step 8: 354.078125\n",
      "Minibatch accuracy: 81.2%\n",
      "Validation accuracy: 72.4%\n",
      "Minibatch loss at step 9: 399.140991\n",
      "Minibatch accuracy: 78.1%\n",
      "Validation accuracy: 72.4%\n",
      "Minibatch loss at step 10: 355.219177\n",
      "Minibatch accuracy: 85.9%\n",
      "Validation accuracy: 73.5%\n",
      "Minibatch loss at step 11: 326.676361\n",
      "Minibatch accuracy: 87.5%\n",
      "Validation accuracy: 72.6%\n",
      "Minibatch loss at step 12: 355.687714\n",
      "Minibatch accuracy: 85.2%\n",
      "Validation accuracy: 72.0%\n",
      "Minibatch loss at step 13: 330.568695\n",
      "Minibatch accuracy: 89.1%\n",
      "Validation accuracy: 74.8%\n",
      "Minibatch loss at step 14: 318.630432\n",
      "Minibatch accuracy: 94.5%\n",
      "Validation accuracy: 75.5%\n",
      "Minibatch loss at step 15: 330.282288\n",
      "Minibatch accuracy: 90.6%\n",
      "Validation accuracy: 74.1%\n",
      "Minibatch loss at step 16: 321.738647\n",
      "Minibatch accuracy: 89.8%\n",
      "Validation accuracy: 75.1%\n",
      "Minibatch loss at step 17: 312.207123\n",
      "Minibatch accuracy: 96.1%\n",
      "Validation accuracy: 74.5%\n",
      "Minibatch loss at step 18: 324.737885\n",
      "Minibatch accuracy: 91.4%\n",
      "Validation accuracy: 72.6%\n",
      "Minibatch loss at step 19: 334.158142\n",
      "Minibatch accuracy: 89.1%\n",
      "Validation accuracy: 74.0%\n",
      "Minibatch loss at step 20: 318.756104\n",
      "Minibatch accuracy: 93.0%\n",
      "Validation accuracy: 72.1%\n",
      "Minibatch loss at step 21: 407.749939\n",
      "Minibatch accuracy: 84.4%\n",
      "Validation accuracy: 70.1%\n",
      "Minibatch loss at step 22: 313.485199\n",
      "Minibatch accuracy: 93.8%\n",
      "Validation accuracy: 75.5%\n",
      "Minibatch loss at step 23: 305.278900\n",
      "Minibatch accuracy: 96.1%\n",
      "Validation accuracy: 75.4%\n",
      "Minibatch loss at step 24: 331.397827\n",
      "Minibatch accuracy: 92.2%\n",
      "Validation accuracy: 75.1%\n",
      "Minibatch loss at step 25: 315.232758\n",
      "Minibatch accuracy: 93.0%\n",
      "Validation accuracy: 76.0%\n",
      "Minibatch loss at step 26: 306.528198\n",
      "Minibatch accuracy: 94.5%\n",
      "Validation accuracy: 75.9%\n",
      "Minibatch loss at step 27: 318.203156\n",
      "Minibatch accuracy: 93.0%\n",
      "Validation accuracy: 72.6%\n",
      "Minibatch loss at step 28: 314.879547\n",
      "Minibatch accuracy: 93.0%\n",
      "Validation accuracy: 74.5%\n",
      "Minibatch loss at step 29: 310.104065\n",
      "Minibatch accuracy: 93.8%\n",
      "Validation accuracy: 75.2%\n",
      "Minibatch loss at step 30: 312.284943\n",
      "Minibatch accuracy: 94.5%\n",
      "Validation accuracy: 75.4%\n",
      "Minibatch loss at step 31: 316.224701\n",
      "Minibatch accuracy: 95.3%\n",
      "Validation accuracy: 75.7%\n",
      "Minibatch loss at step 32: 302.110443\n",
      "Minibatch accuracy: 99.2%\n",
      "Validation accuracy: 75.7%\n",
      "Minibatch loss at step 33: 304.658203\n",
      "Minibatch accuracy: 96.9%\n",
      "Validation accuracy: 76.3%\n",
      "Minibatch loss at step 34: 302.657135\n",
      "Minibatch accuracy: 98.4%\n",
      "Validation accuracy: 76.2%\n",
      "Minibatch loss at step 35: 301.592407\n",
      "Minibatch accuracy: 96.9%\n",
      "Validation accuracy: 76.0%\n",
      "Minibatch loss at step 36: 307.886597\n",
      "Minibatch accuracy: 94.5%\n",
      "Validation accuracy: 74.8%\n",
      "Minibatch loss at step 37: 303.320679\n",
      "Minibatch accuracy: 96.9%\n",
      "Validation accuracy: 75.2%\n",
      "Minibatch loss at step 38: 300.511749\n",
      "Minibatch accuracy: 96.9%\n",
      "Validation accuracy: 75.2%\n",
      "Minibatch loss at step 39: 309.278229\n",
      "Minibatch accuracy: 95.3%\n",
      "Validation accuracy: 75.4%\n",
      "Test accuracy: 83.2%\n"
     ]
    }
   ],
   "source": [
    "num_steps = 40\n",
    "num_batches = 3\n",
    "batch_size = 128\n",
    "\n",
    "with tf.Session(graph=graph) as session:\n",
    "    tf.global_variables_initializer().run()\n",
    "    print(\"Initialized\")\n",
    "    for step in range(num_steps):\n",
    "        # Pick an offset within the training data, which has been randomized.\n",
    "        # Note: we could use better randomization across epochs.\n",
    "        offset = ((step % num_batches) * batch_size) % (train_labels.shape[0] - batch_size)\n",
    "        # Generate a minibatch.\n",
    "        batch_data = train_dataset[offset:(offset + batch_size), :]\n",
    "        batch_labels = train_labels[offset:(offset + batch_size), :]\n",
    "        # Prepare a dictionary telling the session where to feed the minibatch.\n",
    "        # The key of the dictionary is the placeholder node of the graph to be fed,\n",
    "        # and the value is the numpy array to feed to it.\n",
    "        feed_dict = {tf_train_dataset : batch_data, tf_train_labels : batch_labels, beta : 1e-3}\n",
    "        _, l, predictions = session.run([optimizer, loss, train_prediction], feed_dict=feed_dict)\n",
    "        print(\"Minibatch loss at step %d: %f\" % (step, l))\n",
    "        print(\"Minibatch accuracy: %.1f%%\" % accuracy(predictions, batch_labels))\n",
    "        print(\"Validation accuracy: %.1f%%\" % accuracy(valid_prediction.eval(), valid_labels))\n",
    "    print(\"Test accuracy: %.1f%%\" % accuracy(test_prediction.eval(), test_labels))"
   ]
  },
  {
   "cell_type": "markdown",
   "metadata": {
    "colab_type": "text",
    "id": "-b1hTz3VWZjw"
   },
   "source": [
    "As can be seen above, the test accuracy is 83.2% and is an improvement on the previous solution. This shows that dropout does indeed decrease overfitting phenomenon.\n",
    "\n",
    "---\n",
    "Problem 4\n",
    "---------\n",
    "\n",
    "Try to get the best performance you can using a multi-layer model! The best reported test accuracy using a deep network is [97.1%](http://yaroslavvb.blogspot.com/2011/09/notmnist-dataset.html?showComment=1391023266211#c8758720086795711595).\n",
    "\n",
    "One avenue you can explore is to add multiple layers.\n",
    "\n",
    "Another one is to use learning rate decay:\n",
    "\n",
    "    global_step = tf.Variable(0)  # count the number of steps taken.\n",
    "    learning_rate = tf.train.exponential_decay(0.5, global_step, ...)\n",
    "    optimizer = tf.train.GradientDescentOptimizer(learning_rate).minimize(loss, global_step=global_step)\n",
    " \n",
    " ---\n"
   ]
  },
  {
   "cell_type": "markdown",
   "metadata": {},
   "source": [
    "Here I will try to build a 3 layered neural network to complete the task and will also use relu activations and dropout of .5 between every hidden layer"
   ]
  },
  {
   "cell_type": "code",
   "execution_count": 34,
   "metadata": {
    "collapsed": false
   },
   "outputs": [],
   "source": [
    "graph = tf.Graph()\n",
    "num_hidden_nodes = 1024\n",
    "num_hidden_nodes_1 = 512\n",
    "num_hidden_nodes_2 = 256\n",
    "\n",
    "with graph.as_default():\n",
    "    # Input data. For the training data, we use a placeholder that will be fed\n",
    "    # at run time with a training minibatch.\n",
    "    tf_train_dataset = tf.placeholder(tf.float32, shape=(batch_size, image_size * image_size))\n",
    "    tf_train_labels = tf.placeholder(tf.float32, shape=(batch_size, num_labels))\n",
    "    tf_valid_dataset = tf.constant(valid_dataset)\n",
    "    tf_test_dataset = tf.constant(test_dataset)\n",
    "    global_step = tf.Variable(0)\n",
    "    \n",
    "    weights = tf.Variable(tf.truncated_normal([image_size * image_size, num_hidden_nodes], stddev= np.sqrt(2.0 / (image_size * image_size))))\n",
    "    bias = tf.Variable(tf.zeros([num_hidden_nodes]))\n",
    "    \n",
    "    weights_1 = tf.Variable(tf.truncated_normal([num_hidden_nodes, num_hidden_nodes_1], stddev= np.sqrt(2.0 / num_hidden_nodes)))\n",
    "    bias_1 = tf.Variable(tf.zeros([num_hidden_nodes_1]))\n",
    "    \n",
    "    weights_2 = tf.Variable(tf.truncated_normal([num_hidden_nodes_1, num_hidden_nodes_2], stddev= np.sqrt(2.0 / num_hidden_nodes_1)))\n",
    "    bias_2 = tf.Variable(tf.zeros([num_hidden_nodes_2]))\n",
    "    \n",
    "    weights_3 = tf.Variable(tf.truncated_normal([num_hidden_nodes_2, num_labels], stddev= np.sqrt(2.0 / num_hidden_nodes_2)))\n",
    "    bias_3 = tf.Variable(tf.zeros([num_labels]))\n",
    "    \n",
    "    \n",
    "    hidden_1 = tf.nn.dropout(tf.nn.relu(tf.matmul(tf_train_dataset ,weights) + bias), 0.5)\n",
    "    hidden_2 = tf.nn.dropout(tf.nn.relu(tf.matmul(hidden_1 ,weights_1) + bias_1), 0.5)\n",
    "    hidden_3 = tf.nn.dropout(tf.nn.relu(tf.matmul(hidden_2 ,weights_2) + bias_2), 0.5)\n",
    "    logits = tf.matmul(hidden_3, weights_3) + bias_3\n",
    "    loss = tf.reduce_mean(tf.nn.softmax_cross_entropy_with_logits(logits=logits, labels= tf_train_labels))\n",
    "    \n",
    "    learning_rate = tf.train.exponential_decay(0.5, global_step, 5000, 0.80, staircase=True)\n",
    "    optimizer = tf.train.GradientDescentOptimizer(learning_rate).minimize(loss, global_step=global_step)\n",
    "    # Predictions for the training, validation, and test data.\n",
    "    train_prediction = tf.nn.softmax(logits)\n",
    "    \n",
    "    v_hidden_1 = tf.nn.relu(tf.matmul(tf_valid_dataset, weights) + bias)\n",
    "    v_hidden_2 = tf.nn.relu(tf.matmul(v_hidden_1, weights_1) + bias_1)\n",
    "    v_hidden_3 = tf.nn.relu(tf.matmul(v_hidden_2, weights_2) + bias_2)\n",
    "    v_logits = tf.matmul(v_hidden_3, weights_3) + bias_3\n",
    "    validation_prediction = tf.nn.softmax(v_logits)\n",
    "    \n",
    "    t_hidden_1 = tf.nn.relu(tf.matmul(tf_test_dataset, weights) + bias)\n",
    "    t_hidden_2 = tf.nn.relu(tf.matmul(t_hidden_1, weights_1) + bias_1)\n",
    "    t_hidden_3 = tf.nn.relu(tf.matmul(t_hidden_2, weights_2) + bias_2)\n",
    "    t_logits = tf.matmul(t_hidden_3, weights_3) + bias_3\n",
    "    test_prediction = tf.nn.softmax(t_logits)\n",
    "    "
   ]
  },
  {
   "cell_type": "code",
   "execution_count": 35,
   "metadata": {
    "collapsed": false,
    "scrolled": false
   },
   "outputs": [
    {
     "name": "stdout",
     "output_type": "stream",
     "text": [
      "WARNING:tensorflow:From <ipython-input-35-6e4ac99fae0f>:4: initialize_all_variables (from tensorflow.python.ops.variables) is deprecated and will be removed after 2017-03-02.\n",
      "Instructions for updating:\n",
      "Use `tf.global_variables_initializer` instead.\n",
      "Initialized\n",
      "Minibatch loss at step 0: 2.865965\n",
      "Minibatch accuracy: 10.2%\n",
      "Validation accuracy: 26.2%\n",
      "Minibatch loss at step 500: 0.483439\n",
      "Minibatch accuracy: 88.3%\n",
      "Validation accuracy: 84.2%\n",
      "Minibatch loss at step 1000: 0.622036\n",
      "Minibatch accuracy: 84.4%\n",
      "Validation accuracy: 84.5%\n",
      "Minibatch loss at step 1500: 0.473837\n",
      "Minibatch accuracy: 85.2%\n",
      "Validation accuracy: 85.6%\n",
      "Minibatch loss at step 2000: 0.402121\n",
      "Minibatch accuracy: 88.3%\n",
      "Validation accuracy: 86.3%\n",
      "Minibatch loss at step 2500: 0.497054\n",
      "Minibatch accuracy: 82.8%\n",
      "Validation accuracy: 86.2%\n",
      "Minibatch loss at step 3000: 0.496634\n",
      "Minibatch accuracy: 84.4%\n",
      "Validation accuracy: 86.6%\n",
      "Minibatch loss at step 3500: 0.550857\n",
      "Minibatch accuracy: 80.5%\n",
      "Validation accuracy: 87.3%\n",
      "Minibatch loss at step 4000: 0.431133\n",
      "Minibatch accuracy: 89.8%\n",
      "Validation accuracy: 87.2%\n",
      "Minibatch loss at step 4500: 0.503740\n",
      "Minibatch accuracy: 85.9%\n",
      "Validation accuracy: 86.8%\n",
      "Minibatch loss at step 5000: 0.513930\n",
      "Minibatch accuracy: 89.1%\n",
      "Validation accuracy: 87.6%\n",
      "Minibatch loss at step 5500: 0.552434\n",
      "Minibatch accuracy: 82.8%\n",
      "Validation accuracy: 87.6%\n",
      "Minibatch loss at step 6000: 0.513581\n",
      "Minibatch accuracy: 82.0%\n",
      "Validation accuracy: 87.7%\n",
      "Minibatch loss at step 6500: 0.404741\n",
      "Minibatch accuracy: 89.8%\n",
      "Validation accuracy: 88.2%\n",
      "Minibatch loss at step 7000: 0.470291\n",
      "Minibatch accuracy: 86.7%\n",
      "Validation accuracy: 88.2%\n",
      "Minibatch loss at step 7500: 0.459496\n",
      "Minibatch accuracy: 85.2%\n",
      "Validation accuracy: 88.5%\n",
      "Minibatch loss at step 8000: 0.780724\n",
      "Minibatch accuracy: 80.5%\n",
      "Validation accuracy: 88.5%\n",
      "Minibatch loss at step 8500: 0.350029\n",
      "Minibatch accuracy: 88.3%\n",
      "Validation accuracy: 88.6%\n",
      "Minibatch loss at step 9000: 0.537413\n",
      "Minibatch accuracy: 87.5%\n",
      "Validation accuracy: 88.7%\n",
      "Minibatch loss at step 9500: 0.547723\n",
      "Minibatch accuracy: 85.2%\n",
      "Validation accuracy: 88.7%\n",
      "Minibatch loss at step 10000: 0.325927\n",
      "Minibatch accuracy: 87.5%\n",
      "Validation accuracy: 88.8%\n",
      "Minibatch loss at step 10500: 0.408086\n",
      "Minibatch accuracy: 89.8%\n",
      "Validation accuracy: 89.1%\n",
      "Minibatch loss at step 11000: 0.334541\n",
      "Minibatch accuracy: 93.0%\n",
      "Validation accuracy: 89.1%\n",
      "Minibatch loss at step 11500: 0.414599\n",
      "Minibatch accuracy: 88.3%\n",
      "Validation accuracy: 89.3%\n",
      "Minibatch loss at step 12000: 0.508536\n",
      "Minibatch accuracy: 85.9%\n",
      "Validation accuracy: 89.1%\n",
      "Minibatch loss at step 12500: 0.405301\n",
      "Minibatch accuracy: 89.1%\n",
      "Validation accuracy: 89.6%\n",
      "Minibatch loss at step 13000: 0.405585\n",
      "Minibatch accuracy: 85.9%\n",
      "Validation accuracy: 89.5%\n",
      "Minibatch loss at step 13500: 0.468543\n",
      "Minibatch accuracy: 85.2%\n",
      "Validation accuracy: 89.5%\n",
      "Minibatch loss at step 14000: 0.447597\n",
      "Minibatch accuracy: 85.9%\n",
      "Validation accuracy: 89.7%\n",
      "Minibatch loss at step 14500: 0.537652\n",
      "Minibatch accuracy: 87.5%\n",
      "Validation accuracy: 89.5%\n",
      "Minibatch loss at step 15000: 0.301863\n",
      "Minibatch accuracy: 89.1%\n",
      "Validation accuracy: 89.6%\n",
      "Minibatch loss at step 15500: 0.335515\n",
      "Minibatch accuracy: 90.6%\n",
      "Validation accuracy: 89.8%\n",
      "Minibatch loss at step 16000: 0.351724\n",
      "Minibatch accuracy: 93.0%\n",
      "Validation accuracy: 90.0%\n",
      "Minibatch loss at step 16500: 0.284767\n",
      "Minibatch accuracy: 91.4%\n",
      "Validation accuracy: 89.6%\n",
      "Minibatch loss at step 17000: 0.297993\n",
      "Minibatch accuracy: 95.3%\n",
      "Validation accuracy: 89.7%\n",
      "Minibatch loss at step 17500: 0.125532\n",
      "Minibatch accuracy: 96.9%\n",
      "Validation accuracy: 89.8%\n",
      "Minibatch loss at step 18000: 0.268106\n",
      "Minibatch accuracy: 92.2%\n",
      "Validation accuracy: 89.6%\n",
      "Minibatch loss at step 18500: 0.287187\n",
      "Minibatch accuracy: 89.8%\n",
      "Validation accuracy: 90.0%\n",
      "Minibatch loss at step 19000: 0.177760\n",
      "Minibatch accuracy: 93.0%\n",
      "Validation accuracy: 89.9%\n",
      "Minibatch loss at step 19500: 0.281499\n",
      "Minibatch accuracy: 91.4%\n",
      "Validation accuracy: 90.0%\n",
      "Minibatch loss at step 20000: 0.459867\n",
      "Minibatch accuracy: 85.2%\n",
      "Validation accuracy: 90.1%\n",
      "Test accuracy: 95.5%\n"
     ]
    }
   ],
   "source": [
    "num_steps = 20001\n",
    "\n",
    "with tf.Session(graph=graph) as session:\n",
    "    tf.global_variables_initializer().run()\n",
    "    print(\"Initialized\")\n",
    "    for step in range(num_steps):\n",
    "        # Pick an offset within the training data, which has been randomized.\n",
    "        # Note: we could use better randomization across epochs.\n",
    "        offset = (step * batch_size) % (train_labels.shape[0] - batch_size)\n",
    "        # Generate a minibatch.\n",
    "        batch_data = train_dataset[offset:(offset + batch_size), :]\n",
    "        batch_labels = train_labels[offset:(offset + batch_size), :]\n",
    "        # Prepare a dictionary telling the session where to feed the minibatch.\n",
    "        # The key of the dictionary is the placeholder node of the graph to be fed,\n",
    "        # and the value is the numpy array to feed to it.\n",
    "        feed_dict = {tf_train_dataset : batch_data, tf_train_labels : batch_labels}\n",
    "        _, l, predictions = session.run([optimizer, loss, train_prediction], feed_dict=feed_dict)\n",
    "        if (step % 500 == 0):\n",
    "            print(\"Minibatch loss at step %d: %f\" % (step, l))\n",
    "            print(\"Minibatch accuracy: %.1f%%\" % accuracy(predictions, batch_labels))\n",
    "            print(\"Validation accuracy: %.1f%%\" % accuracy(validation_prediction.eval(), valid_labels))\n",
    "    print(\"Test accuracy: %.1f%%\" % accuracy(test_prediction.eval(), test_labels))"
   ]
  },
  {
   "cell_type": "markdown",
   "metadata": {
    "collapsed": true
   },
   "source": [
    "This is the best accuracy I've gotten after a lot of tuning with the hyper parameters"
   ]
  }
 ],
 "metadata": {
  "anaconda-cloud": {},
  "colab": {
   "default_view": {},
   "name": "3_regularization.ipynb",
   "provenance": [],
   "version": "0.3.2",
   "views": {}
  },
  "kernelspec": {
   "display_name": "Python [conda root]",
   "language": "python",
   "name": "conda-root-py"
  },
  "language_info": {
   "codemirror_mode": {
    "name": "ipython",
    "version": 3
   },
   "file_extension": ".py",
   "mimetype": "text/x-python",
   "name": "python",
   "nbconvert_exporter": "python",
   "pygments_lexer": "ipython3",
   "version": "3.5.2"
  }
 },
 "nbformat": 4,
 "nbformat_minor": 0
}
